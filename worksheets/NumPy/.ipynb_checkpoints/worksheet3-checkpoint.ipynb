{
 "cells": [
  {
   "cell_type": "code",
   "execution_count": 4,
   "metadata": {},
   "outputs": [],
   "source": [
    "import numpy as np"
   ]
  },
  {
   "cell_type": "markdown",
   "metadata": {},
   "source": [
    "・様々なndarray"
   ]
  },
  {
   "cell_type": "markdown",
   "metadata": {},
   "source": [
    "np.arange([start,] stop[, step])"
   ]
  },
  {
   "cell_type": "code",
   "execution_count": 6,
   "metadata": {},
   "outputs": [
    {
     "data": {
      "text/plain": [
       "array([0, 2, 4])"
      ]
     },
     "execution_count": 6,
     "metadata": {},
     "output_type": "execute_result"
    }
   ],
   "source": [
    "np.arange(0, 5, 2)"
   ]
  },
  {
   "cell_type": "code",
   "execution_count": 8,
   "metadata": {},
   "outputs": [
    {
     "data": {
      "text/plain": [
       "array([0, 2, 4, 6])"
      ]
     },
     "execution_count": 8,
     "metadata": {},
     "output_type": "execute_result"
    }
   ],
   "source": [
    "np.arange(0, 8, 2)"
   ]
  },
  {
   "cell_type": "code",
   "execution_count": 9,
   "metadata": {},
   "outputs": [
    {
     "data": {
      "text/plain": [
       "array([0, 1, 2, 3, 4, 5])"
      ]
     },
     "execution_count": 9,
     "metadata": {},
     "output_type": "execute_result"
    }
   ],
   "source": [
    "np.arange(6)"
   ]
  },
  {
   "cell_type": "code",
   "execution_count": 10,
   "metadata": {},
   "outputs": [
    {
     "data": {
      "text/plain": [
       "array([ 0,  5, 10, 15, 20, 25, 30, 35, 40, 45, 50, 55, 60, 65, 70, 75, 80,\n",
       "       85, 90, 95])"
      ]
     },
     "execution_count": 10,
     "metadata": {},
     "output_type": "execute_result"
    }
   ],
   "source": [
    "np.arange(0, 100, 5)"
   ]
  },
  {
   "cell_type": "markdown",
   "metadata": {},
   "source": [
    "・np.linspace(start, stop, num=50)"
   ]
  },
  {
   "cell_type": "code",
   "execution_count": 14,
   "metadata": {},
   "outputs": [
    {
     "data": {
      "text/plain": [
       "array([ 1.,  2.,  3.,  4.,  5.,  6.,  7.,  8.,  9., 10.])"
      ]
     },
     "execution_count": 14,
     "metadata": {},
     "output_type": "execute_result"
    }
   ],
   "source": [
    "np.linspace(1, 10, 10)"
   ]
  },
  {
   "cell_type": "code",
   "execution_count": 15,
   "metadata": {},
   "outputs": [
    {
     "data": {
      "text/plain": [
       "array([ 1.        ,  1.47368421,  1.94736842,  2.42105263,  2.89473684,\n",
       "        3.36842105,  3.84210526,  4.31578947,  4.78947368,  5.26315789,\n",
       "        5.73684211,  6.21052632,  6.68421053,  7.15789474,  7.63157895,\n",
       "        8.10526316,  8.57894737,  9.05263158,  9.52631579, 10.        ])"
      ]
     },
     "execution_count": 15,
     "metadata": {},
     "output_type": "execute_result"
    }
   ],
   "source": [
    "np.linspace(1, 10, 20)"
   ]
  },
  {
   "cell_type": "markdown",
   "metadata": {},
   "source": [
    "・.copy() \n",
    "・NumPy Arrayは関数に渡すとき，参照渡しになる\n",
    "・基本的にデータ量が巨大になる可能性があるものは参照渡し，そうでなければ基本値渡し"
   ]
  },
  {
   "cell_type": "code",
   "execution_count": 16,
   "metadata": {},
   "outputs": [
    {
     "name": "stdout",
     "output_type": "stream",
     "text": [
      "original array_1:\n",
      " [100   1   2   3]\n",
      "original array_2:\n",
      " [0 1 2 3]\n"
     ]
    }
   ],
   "source": [
    "\n",
    "def change_hundred(array):\n",
    " \n",
    "    array[0] = 100\n",
    "    return array\n",
    " \n",
    "def change_hundred_copy(array):\n",
    "    \n",
    "    array_copy = array.copy()\n",
    "    array_copy[0] = 100\n",
    "    return array_copy\n",
    " \n",
    "array_1 = np.arange(0, 4)\n",
    "array_2 = np.arange(0, 4)\n",
    " \n",
    "output_array = change_hundred(array_1)\n",
    "output_array_copy = change_hundred_copy(array_2)\n",
    " \n",
    "print('original array_1:\\n', array_1)\n",
    "print('original array_2:\\n', array_2)"
   ]
  },
  {
   "cell_type": "markdown",
   "metadata": {},
   "source": [
    "・np.zeros(shape)　零行列"
   ]
  },
  {
   "cell_type": "code",
   "execution_count": 17,
   "metadata": {},
   "outputs": [
    {
     "name": "stdout",
     "output_type": "stream",
     "text": [
      "[[[0. 0. 0. 0. 0.]\n",
      "  [0. 0. 0. 0. 0.]\n",
      "  [0. 0. 0. 0. 0.]]\n",
      "\n",
      " [[0. 0. 0. 0. 0.]\n",
      "  [0. 0. 0. 0. 0.]\n",
      "  [0. 0. 0. 0. 0.]]]\n"
     ]
    }
   ],
   "source": [
    "shape = (2, 3, 5)\n",
    "zeros = np.zeros(shape)\n",
    "print(zeros)"
   ]
  },
  {
   "cell_type": "code",
   "execution_count": 18,
   "metadata": {},
   "outputs": [
    {
     "data": {
      "text/plain": [
       "array([0., 0., 0., 0., 0.])"
      ]
     },
     "execution_count": 18,
     "metadata": {},
     "output_type": "execute_result"
    }
   ],
   "source": [
    "np.zeros(5)"
   ]
  },
  {
   "cell_type": "markdown",
   "metadata": {},
   "source": [
    "・np.ones(shape) 　　全ての要素が「１」"
   ]
  },
  {
   "cell_type": "code",
   "execution_count": 21,
   "metadata": {},
   "outputs": [
    {
     "name": "stdout",
     "output_type": "stream",
     "text": [
      "[[[1. 1. 1. 1. 1.]\n",
      "  [1. 1. 1. 1. 1.]\n",
      "  [1. 1. 1. 1. 1.]]\n",
      "\n",
      " [[1. 1. 1. 1. 1.]\n",
      "  [1. 1. 1. 1. 1.]\n",
      "  [1. 1. 1. 1. 1.]]]\n"
     ]
    }
   ],
   "source": [
    "shape = (2, 3, 5)\n",
    "ones_array_1 = np.ones(shape)\n",
    "print(ones_array_1)"
   ]
  },
  {
   "cell_type": "code",
   "execution_count": 22,
   "metadata": {},
   "outputs": [
    {
     "name": "stdout",
     "output_type": "stream",
     "text": [
      "[1. 1. 1. 1. 1. 1. 1. 1. 1. 1.]\n"
     ]
    }
   ],
   "source": [
    "ones_array_2 = np.ones(10)\n",
    "print(ones_array_2)"
   ]
  },
  {
   "cell_type": "markdown",
   "metadata": {},
   "source": [
    "・np.eye(N) N x Nの単位行列"
   ]
  },
  {
   "cell_type": "code",
   "execution_count": 23,
   "metadata": {},
   "outputs": [
    {
     "data": {
      "text/plain": [
       "array([[1., 0., 0., 0., 0.],\n",
       "       [0., 1., 0., 0., 0.],\n",
       "       [0., 0., 1., 0., 0.],\n",
       "       [0., 0., 0., 1., 0.],\n",
       "       [0., 0., 0., 0., 1.]])"
      ]
     },
     "execution_count": 23,
     "metadata": {},
     "output_type": "execute_result"
    }
   ],
   "source": [
    "np.eye(5)"
   ]
  },
  {
   "cell_type": "markdown",
   "metadata": {},
   "source": [
    "・np.random.rand()    0 ~ 1からランダムな数字で行列を作る"
   ]
  },
  {
   "cell_type": "code",
   "execution_count": 24,
   "metadata": {},
   "outputs": [
    {
     "name": "stdout",
     "output_type": "stream",
     "text": [
      "random_float: 0.04471391954403514\n",
      "\n",
      "random_1d: [0.03893181 0.75602382 0.70837596]\n",
      "\n",
      "random_2d: [[0.89888866 0.20076253 0.65674655 0.97264212]\n",
      " [0.94327318 0.96583447 0.52336856 0.01882537]\n",
      " [0.37941385 0.88653439 0.42219951 0.74606974]]\n",
      "\n"
     ]
    }
   ],
   "source": [
    "random_float = np.random.rand()\n",
    "random_1d = np.random.rand(3)\n",
    "random_2d = np.random.rand(3, 4)\n",
    " \n",
    "print('random_float: {}\\n'.format(random_float))\n",
    "print('random_1d: {}\\n'.format(random_1d))\n",
    "print('random_2d: {}\\n'.format(random_2d))"
   ]
  },
  {
   "cell_type": "markdown",
   "metadata": {},
   "source": [
    "・np.random.randn()\n",
    "標準正規分布(平均0, 分散1の正規分布)から値が返される"
   ]
  },
  {
   "cell_type": "code",
   "execution_count": 25,
   "metadata": {},
   "outputs": [
    {
     "name": "stdout",
     "output_type": "stream",
     "text": [
      "random_float: -0.25315384904951743\n",
      "\n",
      "random_1d: [1.57016943 0.83571134 0.30847451]\n",
      "\n",
      "random_2d: [[-0.20463174  1.31703897  0.1906095  -0.14204414]\n",
      " [ 1.22909144  0.86211649  0.32443347  1.59611808]\n",
      " [ 0.52199344  1.98764269  1.74823697  0.33002851]]\n",
      "\n"
     ]
    }
   ],
   "source": [
    "random_float = np.random.randn()\n",
    "random_1d = np.random.randn(3)\n",
    "random_2d = np.random.randn(3, 4)\n",
    " \n",
    "print('random_float: {}\\n'.format(random_float))\n",
    "print('random_1d: {}\\n'.format(random_1d))\n",
    "print('random_2d: {}\\n'.format(random_2d))"
   ]
  },
  {
   "cell_type": "markdown",
   "metadata": {},
   "source": [
    "・np.random.randint(low[, high] [, size]) \n",
    "．low以上hight未満のintegerからランダムに，指定したsizeのndarrayを返す"
   ]
  },
  {
   "cell_type": "code",
   "execution_count": 26,
   "metadata": {},
   "outputs": [
    {
     "data": {
      "text/plain": [
       "array([[[10, 55, 66],\n",
       "        [28, 61, 62],\n",
       "        [ 6,  2, 21],\n",
       "        [91, 39, 17],\n",
       "        [10, 62, 36]],\n",
       "\n",
       "       [[ 2, 44, 43],\n",
       "        [17, 57, 29],\n",
       "        [77, 59, 51],\n",
       "        [45,  2, 22],\n",
       "        [55, 71, 92]]])"
      ]
     },
     "execution_count": 26,
     "metadata": {},
     "output_type": "execute_result"
    }
   ],
   "source": [
    "np.random.randint(1, 100, size=(2, 5, 3))"
   ]
  },
  {
   "cell_type": "code",
   "execution_count": null,
   "metadata": {},
   "outputs": [],
   "source": []
  }
 ],
 "metadata": {
  "kernelspec": {
   "display_name": "Python 3",
   "language": "python",
   "name": "python3"
  },
  "language_info": {
   "codemirror_mode": {
    "name": "ipython",
    "version": 3
   },
   "file_extension": ".py",
   "mimetype": "text/x-python",
   "name": "python",
   "nbconvert_exporter": "python",
   "pygments_lexer": "ipython3",
   "version": "3.7.4"
  }
 },
 "nbformat": 4,
 "nbformat_minor": 4
}
