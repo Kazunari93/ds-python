{
 "cells": [
  {
   "cell_type": "code",
   "execution_count": 1,
   "metadata": {},
   "outputs": [],
   "source": [
    "import numpy as np"
   ]
  },
  {
   "cell_type": "markdown",
   "metadata": {},
   "source": [
    "・統計量"
   ]
  },
  {
   "cell_type": "code",
   "execution_count": 3,
   "metadata": {},
   "outputs": [
    {
     "name": "stdout",
     "output_type": "stream",
     "text": [
      "[[-0.5980579   1.42515286 -0.05577157 -0.70896654  0.39980355]\n",
      " [-0.67033972  1.15321302 -0.62707473  1.28953408 -0.15620785]\n",
      " [-2.62195972  1.58568428  1.33900354 -0.88975156 -1.77695881]\n",
      " [-1.27183271  1.37922695  0.97084046 -1.35502643  0.97745216]\n",
      " [ 2.97403548  1.37571072 -0.75265151 -0.35786003  0.79155303]]\n"
     ]
    }
   ],
   "source": [
    "num = np.random.randn(5,5)\n",
    "print(num)"
   ]
  },
  {
   "cell_type": "code",
   "execution_count": 6,
   "metadata": {},
   "outputs": [
    {
     "name": "stdout",
     "output_type": "stream",
     "text": [
      "max\n",
      "2.9740354799925455\n"
     ]
    }
   ],
   "source": [
    "print(\"max\")\n",
    "print(num.max())"
   ]
  },
  {
   "cell_type": "code",
   "execution_count": 7,
   "metadata": {},
   "outputs": [
    {
     "name": "stdout",
     "output_type": "stream",
     "text": [
      "argmax 最大値のindex\n",
      "20\n"
     ]
    }
   ],
   "source": [
    "print(\"argmax 最大値のindex\")\n",
    "print(num.argmax())"
   ]
  },
  {
   "cell_type": "code",
   "execution_count": 8,
   "metadata": {},
   "outputs": [
    {
     "name": "stdout",
     "output_type": "stream",
     "text": [
      "min\n",
      "-2.621959722176463\n",
      "argmin\n",
      "10\n"
     ]
    }
   ],
   "source": [
    "print(\"min\")\n",
    "print(num.min())\n",
    "print(\"argmin\")\n",
    "print(num.argmin())"
   ]
  },
  {
   "cell_type": "code",
   "execution_count": 9,
   "metadata": {},
   "outputs": [
    {
     "name": "stdout",
     "output_type": "stream",
     "text": [
      "mean\n",
      "0.15275004128694325\n"
     ]
    }
   ],
   "source": [
    "print(\"mean\")\n",
    "print(num.mean())"
   ]
  },
  {
   "cell_type": "code",
   "execution_count": 10,
   "metadata": {},
   "outputs": [
    {
     "name": "stdout",
     "output_type": "stream",
     "text": [
      "median\n",
      "-0.05577157342933196\n"
     ]
    }
   ],
   "source": [
    "print(\"median\")\n",
    "print(np.median(num))"
   ]
  },
  {
   "cell_type": "code",
   "execution_count": 11,
   "metadata": {},
   "outputs": [
    {
     "name": "stdout",
     "output_type": "stream",
     "text": [
      "std\n",
      "1.2770976382977595\n"
     ]
    }
   ],
   "source": [
    "print(\"std\")\n",
    "print(num.std())"
   ]
  },
  {
   "cell_type": "code",
   "execution_count": 12,
   "metadata": {},
   "outputs": [
    {
     "name": "stdout",
     "output_type": "stream",
     "text": [
      "[[-0.5980579   1.42515286 -0.05577157 -0.70896654  0.39980355]\n",
      " [-0.67033972  1.15321302 -0.62707473  1.28953408 -0.15620785]\n",
      " [-2.62195972  1.58568428  1.33900354 -0.88975156 -1.77695881]\n",
      " [-1.27183271  1.37922695  0.97084046 -1.35502643  0.97745216]\n",
      " [ 2.97403548  1.37571072 -0.75265151 -0.35786003  0.79155303]]\n",
      "[2.97403548 1.58568428 1.33900354 1.28953408 0.97745216]\n",
      "[1.42515286 1.28953408 1.58568428 1.37922695 2.97403548]\n"
     ]
    }
   ],
   "source": [
    "print(num)\n",
    "print(num.max(axis=0)) \n",
    "print(num.max(axis=1))"
   ]
  },
  {
   "cell_type": "code",
   "execution_count": null,
   "metadata": {},
   "outputs": [],
   "source": []
  }
 ],
 "metadata": {
  "kernelspec": {
   "display_name": "Python 3",
   "language": "python",
   "name": "python3"
  },
  "language_info": {
   "codemirror_mode": {
    "name": "ipython",
    "version": 3
   },
   "file_extension": ".py",
   "mimetype": "text/x-python",
   "name": "python",
   "nbconvert_exporter": "python",
   "pygments_lexer": "ipython3",
   "version": "3.7.4"
  }
 },
 "nbformat": 4,
 "nbformat_minor": 4
}
