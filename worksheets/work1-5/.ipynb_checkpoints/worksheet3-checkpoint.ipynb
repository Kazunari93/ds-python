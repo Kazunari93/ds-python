{
 "cells": [
  {
   "cell_type": "markdown",
   "metadata": {},
   "source": [
    "・関数"
   ]
  },
  {
   "cell_type": "code",
   "execution_count": 1,
   "metadata": {},
   "outputs": [],
   "source": [
    "def function_name(param1, param2):\n",
    "    \"\"\"\n",
    "    This function prints something\n",
    "    \n",
    "    Parameters\n",
    "    -------------------\n",
    "    param1: explaing what param1 is\n",
    "    param2: explaing what param2 is\n",
    "    \n",
    "    \"\"\"\n",
    "    print(\"Do something for {} and {}\".format(param1, param2))\n",
    "    \n",
    "    return \"param1\" + \" and \" + \"param2\""
   ]
  },
  {
   "cell_type": "code",
   "execution_count": 2,
   "metadata": {},
   "outputs": [
    {
     "name": "stdout",
     "output_type": "stream",
     "text": [
      "Do something for something1 and something2\n"
     ]
    }
   ],
   "source": [
    "param1 = \"something1\"\n",
    "param2 = \"something2\"\n",
    "output = function_name(param1, param2)"
   ]
  },
  {
   "cell_type": "code",
   "execution_count": 5,
   "metadata": {},
   "outputs": [
    {
     "name": "stdout",
     "output_type": "stream",
     "text": [
      "param1andparam2\n"
     ]
    }
   ],
   "source": [
    "print(output)"
   ]
  },
  {
   "cell_type": "markdown",
   "metadata": {},
   "source": [
    "\n",
    "・lambda関数\n"
   ]
  },
  {
   "cell_type": "code",
   "execution_count": 7,
   "metadata": {},
   "outputs": [
    {
     "data": {
      "text/plain": [
       "<function __main__.<lambda>(path)>"
      ]
     },
     "execution_count": 7,
     "metadata": {},
     "output_type": "execute_result"
    }
   ],
   "source": [
    "lambda path: path.split(\"/\")[-1]"
   ]
  },
  {
   "cell_type": "code",
   "execution_count": 8,
   "metadata": {},
   "outputs": [],
   "source": [
    "x = lambda path: path.split(\"/\")[-1]"
   ]
  },
  {
   "cell_type": "code",
   "execution_count": 9,
   "metadata": {},
   "outputs": [
    {
     "data": {
      "text/plain": [
       "'image.jpg'"
      ]
     },
     "execution_count": 9,
     "metadata": {},
     "output_type": "execute_result"
    }
   ],
   "source": [
    "x(\"./home/user/Desktop/image.jpg\")"
   ]
  },
  {
   "cell_type": "markdown",
   "metadata": {},
   "source": [
    "・*args 引数の数が決まってないとき リスト"
   ]
  },
  {
   "cell_type": "code",
   "execution_count": 10,
   "metadata": {},
   "outputs": [],
   "source": [
    "def print_list(*args):\n",
    "    \n",
    "    for elem in args:\n",
    "        print(elem)"
   ]
  },
  {
   "cell_type": "code",
   "execution_count": 11,
   "metadata": {},
   "outputs": [
    {
     "name": "stdout",
     "output_type": "stream",
     "text": [
      "python\n",
      "php\n",
      "javascript\n"
     ]
    }
   ],
   "source": [
    "print_list(\"python\", \"php\", \"javascript\")"
   ]
  },
  {
   "cell_type": "markdown",
   "metadata": {},
   "source": [
    "・**kwargs 引数がリストではなくてdictionary"
   ]
  },
  {
   "cell_type": "code",
   "execution_count": 12,
   "metadata": {},
   "outputs": [],
   "source": [
    "def print_dict(**kwargs):\n",
    "    \n",
    "    print(kwargs)"
   ]
  },
  {
   "cell_type": "code",
   "execution_count": 13,
   "metadata": {},
   "outputs": [
    {
     "name": "stdout",
     "output_type": "stream",
     "text": [
      "{'key': '2'}\n"
     ]
    }
   ],
   "source": [
    "print_dict(key=\"2\")"
   ]
  },
  {
   "cell_type": "code",
   "execution_count": 14,
   "metadata": {},
   "outputs": [],
   "source": [
    "def print_dict2(**kwargs):\n",
    "    \n",
    "    param1 = str(kwargs.get(\"param1\"))\n",
    "    param2 = str(kwargs.get(\"param2\", \"default_value\"))\n",
    "    param3 = str(kwargs.get(\"param3\"))\n",
    "    print(\"param1 is {}\".format(param1))\n",
    "    print(\"param2 is {}\".format(param2))\n",
    "    print(\"param3 is {}\".format(param3))\n",
    "    \n"
   ]
  },
  {
   "cell_type": "code",
   "execution_count": 16,
   "metadata": {},
   "outputs": [
    {
     "name": "stdout",
     "output_type": "stream",
     "text": [
      "param1 is param1_value\n",
      "param2 is default_value\n",
      "param3 is None\n"
     ]
    }
   ],
   "source": [
    "print_dict2(param1=\"param1_value\")"
   ]
  },
  {
   "cell_type": "code",
   "execution_count": null,
   "metadata": {},
   "outputs": [],
   "source": []
  }
 ],
 "metadata": {
  "kernelspec": {
   "display_name": "Python 3",
   "language": "python",
   "name": "python3"
  },
  "language_info": {
   "codemirror_mode": {
    "name": "ipython",
    "version": 3
   },
   "file_extension": ".py",
   "mimetype": "text/x-python",
   "name": "python",
   "nbconvert_exporter": "python",
   "pygments_lexer": "ipython3",
   "version": "3.7.4"
  }
 },
 "nbformat": 4,
 "nbformat_minor": 4
}
